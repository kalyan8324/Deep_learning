{
  "metadata": {
    "kernelspec": {
      "language": "python",
      "display_name": "Python 3",
      "name": "python3"
    },
    "language_info": {
      "name": "python",
      "version": "3.10.13",
      "mimetype": "text/x-python",
      "codemirror_mode": {
        "name": "ipython",
        "version": 3
      },
      "pygments_lexer": "ipython3",
      "nbconvert_exporter": "python",
      "file_extension": ".py"
    },
    "kaggle": {
      "accelerator": "none",
      "dataSources": [
        {
          "sourceId": 22922,
          "sourceType": "datasetVersion",
          "datasetId": 17473
        }
      ],
      "dockerImageVersionId": 30732,
      "isInternetEnabled": false,
      "language": "python",
      "sourceType": "notebook",
      "isGpuEnabled": false
    },
    "colab": {
      "name": "Bank_Customer_Churn_Prediction",
      "provenance": [],
      "include_colab_link": true
    }
  },
  "nbformat_minor": 0,
  "nbformat": 4,
  "cells": [
    {
      "cell_type": "markdown",
      "metadata": {
        "id": "view-in-github",
        "colab_type": "text"
      },
      "source": [
        "<a href=\"https://colab.research.google.com/github/kalyan8324/Deep_learning/blob/main/bank_Churn_Modelling.ipynb\" target=\"_parent\"><img src=\"https://colab.research.google.com/assets/colab-badge.svg\" alt=\"Open In Colab\"/></a>"
      ]
    },
    {
      "source": [
        "\n",
        "# IMPORTANT: RUN THIS CELL IN ORDER TO IMPORT YOUR KAGGLE DATA SOURCES\n",
        "# TO THE CORRECT LOCATION (/kaggle/input) IN YOUR NOTEBOOK,\n",
        "# THEN FEEL FREE TO DELETE THIS CELL.\n",
        "# NOTE: THIS NOTEBOOK ENVIRONMENT DIFFERS FROM KAGGLE'S PYTHON\n",
        "# ENVIRONMENT SO THERE MAY BE MISSING LIBRARIES USED BY YOUR\n",
        "# NOTEBOOK.\n",
        "\n",
        "import os\n",
        "import sys\n",
        "from tempfile import NamedTemporaryFile\n",
        "from urllib.request import urlopen\n",
        "from urllib.parse import unquote, urlparse\n",
        "from urllib.error import HTTPError\n",
        "from zipfile import ZipFile\n",
        "import tarfile\n",
        "import shutil\n",
        "\n",
        "CHUNK_SIZE = 40960\n",
        "DATA_SOURCE_MAPPING = 'bank-customer-churn-modeling:https%3A%2F%2Fstorage.googleapis.com%2Fkaggle-data-sets%2F17473%2F22922%2Fbundle%2Farchive.zip%3FX-Goog-Algorithm%3DGOOG4-RSA-SHA256%26X-Goog-Credential%3Dgcp-kaggle-com%2540kaggle-161607.iam.gserviceaccount.com%252F20240612%252Fauto%252Fstorage%252Fgoog4_request%26X-Goog-Date%3D20240612T081949Z%26X-Goog-Expires%3D259200%26X-Goog-SignedHeaders%3Dhost%26X-Goog-Signature%3D52690e9a39524be09bf238c75cbce3cc27b0a78151426df95e0ce05966d501b2d8ca719bdc6dc527dc6ebe106532dd363b29e6467af897f95570bf635480e75e1630327441dc3aa10f35acabadc9457be5146da761471dc958614a1e2ccfcbe186bce89e5bdb02721da86adda9099e3fdaba47993f3ab42fda981843d4a52206afbdf16140d4e54af3934445e03f5faa1752bb0f906fa436bde71f99e56026bd622a00c81d424e6f7e5546ba56c78f617927a39f1eea0fbafcdf3d04358e1299642bef63e06e45e7ef7b3306e92e60ffacb7a347be15efd660427dbff877c5b81a1d3e5cced14ba213b52296c6b0f662192dd7daaef0bb295bcdb72e7408e4a5'\n",
        "\n",
        "KAGGLE_INPUT_PATH='/kaggle/input'\n",
        "KAGGLE_WORKING_PATH='/kaggle/working'\n",
        "KAGGLE_SYMLINK='kaggle'\n",
        "\n",
        "!umount /kaggle/input/ 2> /dev/null\n",
        "shutil.rmtree('/kaggle/input', ignore_errors=True)\n",
        "os.makedirs(KAGGLE_INPUT_PATH, 0o777, exist_ok=True)\n",
        "os.makedirs(KAGGLE_WORKING_PATH, 0o777, exist_ok=True)\n",
        "\n",
        "try:\n",
        "  os.symlink(KAGGLE_INPUT_PATH, os.path.join(\"..\", 'input'), target_is_directory=True)\n",
        "except FileExistsError:\n",
        "  pass\n",
        "try:\n",
        "  os.symlink(KAGGLE_WORKING_PATH, os.path.join(\"..\", 'working'), target_is_directory=True)\n",
        "except FileExistsError:\n",
        "  pass\n",
        "\n",
        "for data_source_mapping in DATA_SOURCE_MAPPING.split(','):\n",
        "    directory, download_url_encoded = data_source_mapping.split(':')\n",
        "    download_url = unquote(download_url_encoded)\n",
        "    filename = urlparse(download_url).path\n",
        "    destination_path = os.path.join(KAGGLE_INPUT_PATH, directory)\n",
        "    try:\n",
        "        with urlopen(download_url) as fileres, NamedTemporaryFile() as tfile:\n",
        "            total_length = fileres.headers['content-length']\n",
        "            print(f'Downloading {directory}, {total_length} bytes compressed')\n",
        "            dl = 0\n",
        "            data = fileres.read(CHUNK_SIZE)\n",
        "            while len(data) > 0:\n",
        "                dl += len(data)\n",
        "                tfile.write(data)\n",
        "                done = int(50 * dl / int(total_length))\n",
        "                sys.stdout.write(f\"\\r[{'=' * done}{' ' * (50-done)}] {dl} bytes downloaded\")\n",
        "                sys.stdout.flush()\n",
        "                data = fileres.read(CHUNK_SIZE)\n",
        "            if filename.endswith('.zip'):\n",
        "              with ZipFile(tfile) as zfile:\n",
        "                zfile.extractall(destination_path)\n",
        "            else:\n",
        "              with tarfile.open(tfile.name) as tarfile:\n",
        "                tarfile.extractall(destination_path)\n",
        "            print(f'\\nDownloaded and uncompressed: {directory}')\n",
        "    except HTTPError as e:\n",
        "        print(f'Failed to load (likely expired) {download_url} to path {destination_path}')\n",
        "        continue\n",
        "    except OSError as e:\n",
        "        print(f'Failed to load {download_url} to path {destination_path}')\n",
        "        continue\n",
        "\n",
        "print('Data source import complete.')\n"
      ],
      "metadata": {
        "id": "L2WBo-XwiC2I"
      },
      "cell_type": "code",
      "outputs": [],
      "execution_count": null
    },
    {
      "cell_type": "code",
      "source": [],
      "metadata": {
        "_uuid": "8f2839f25d086af736a60e9eeb907d3b93b6e0e5",
        "_cell_guid": "b1076dfc-b9ad-4769-8c92-a6c4dae69d19",
        "jupyter": {
          "source_hidden": true
        },
        "trusted": true,
        "id": "AMhS6PdFiC2O"
      },
      "execution_count": null,
      "outputs": []
    },
    {
      "cell_type": "markdown",
      "source": [
        "# Bank Customer Churn_Prediction"
      ],
      "metadata": {
        "id": "tfoV5p3EiC2O"
      }
    },
    {
      "cell_type": "code",
      "source": [
        "# import required librarys\n",
        "import numpy as np\n",
        "import pandas as pd\n",
        "from tensorflow import keras\n",
        "import tensorflow as tf\n",
        "import matplotlib.pyplot as plt"
      ],
      "metadata": {
        "execution": {
          "iopub.status.busy": "2024-06-12T08:11:50.359556Z",
          "iopub.execute_input": "2024-06-12T08:11:50.35988Z",
          "iopub.status.idle": "2024-06-12T08:11:50.364686Z",
          "shell.execute_reply.started": "2024-06-12T08:11:50.359853Z",
          "shell.execute_reply": "2024-06-12T08:11:50.363655Z"
        },
        "trusted": true,
        "id": "NZVFCxRWiC2Q"
      },
      "execution_count": null,
      "outputs": []
    },
    {
      "cell_type": "markdown",
      "source": [
        "<!-- import data set from kaggle  -->"
      ],
      "metadata": {
        "id": "HEpICLykiC2Q"
      }
    },
    {
      "cell_type": "code",
      "source": [
        "# Dataset path: \"/kaggle/input/bank-customer-churn-modeling/Churn_Modelling.csv\"\n",
        "bank = pd.read_csv(\"/kaggle/input/bank-customer-churn-modeling/Churn_Modelling.csv\", index_col=\"RowNumber\")\n",
        "bank.head()"
      ],
      "metadata": {
        "execution": {
          "iopub.status.busy": "2024-06-12T08:11:54.372796Z",
          "iopub.execute_input": "2024-06-12T08:11:54.373189Z",
          "iopub.status.idle": "2024-06-12T08:11:54.408673Z",
          "shell.execute_reply.started": "2024-06-12T08:11:54.373158Z",
          "shell.execute_reply": "2024-06-12T08:11:54.407666Z"
        },
        "trusted": true,
        "id": "2v6bET7EiC2R"
      },
      "execution_count": null,
      "outputs": []
    },
    {
      "cell_type": "markdown",
      "source": [
        "1. we are deleteing un nessasary columns in data sets"
      ],
      "metadata": {
        "id": "_IUQyNMHiC2R"
      }
    },
    {
      "cell_type": "code",
      "source": [
        "bank.drop(['CustomerId', 'Surname'], axis = 1, inplace = True)\n",
        "bank.head()"
      ],
      "metadata": {
        "execution": {
          "iopub.status.busy": "2024-06-12T08:11:57.655524Z",
          "iopub.execute_input": "2024-06-12T08:11:57.656345Z",
          "iopub.status.idle": "2024-06-12T08:11:57.672493Z",
          "shell.execute_reply.started": "2024-06-12T08:11:57.656299Z",
          "shell.execute_reply": "2024-06-12T08:11:57.671291Z"
        },
        "trusted": true,
        "id": "B6Wg6v-7iC2R"
      },
      "execution_count": null,
      "outputs": []
    },
    {
      "cell_type": "markdown",
      "source": [
        "checking datatypes"
      ],
      "metadata": {
        "id": "cK7WH-8jiC2S"
      }
    },
    {
      "cell_type": "code",
      "source": [
        "bank.dtypes"
      ],
      "metadata": {
        "execution": {
          "iopub.status.busy": "2024-06-12T08:12:00.287099Z",
          "iopub.execute_input": "2024-06-12T08:12:00.287582Z",
          "iopub.status.idle": "2024-06-12T08:12:00.297499Z",
          "shell.execute_reply.started": "2024-06-12T08:12:00.287544Z",
          "shell.execute_reply": "2024-06-12T08:12:00.296171Z"
        },
        "trusted": true,
        "id": "_V9_lxxwiC2S"
      },
      "execution_count": null,
      "outputs": []
    },
    {
      "cell_type": "code",
      "source": [
        "bank['Gender'].unique()"
      ],
      "metadata": {
        "execution": {
          "iopub.status.busy": "2024-06-12T08:12:21.357397Z",
          "iopub.execute_input": "2024-06-12T08:12:21.357755Z",
          "iopub.status.idle": "2024-06-12T08:12:21.365644Z",
          "shell.execute_reply.started": "2024-06-12T08:12:21.357728Z",
          "shell.execute_reply": "2024-06-12T08:12:21.364618Z"
        },
        "trusted": true,
        "id": "F3WWPl3FiC2T"
      },
      "execution_count": null,
      "outputs": []
    },
    {
      "cell_type": "code",
      "source": [
        "import matplotlib.pyplot as plt\n",
        "tenure_churn_yes = bank[bank.Exited == 0].Tenure\n",
        "tenure_churn_no = bank[bank.Exited == 1].Tenure\n",
        "\n",
        "plt.xlabel('Tenure')\n",
        "plt.ylabel('no of customer')\n",
        "plt.title(\"Customer Exits or \")\n",
        "plt.hist([tenure_churn_yes, tenure_churn_no], color = ['green', 'red'], label = ['churn = yes', 'churn = no'])\n",
        "plt.legend()"
      ],
      "metadata": {
        "execution": {
          "iopub.status.busy": "2024-06-12T08:12:24.195498Z",
          "iopub.execute_input": "2024-06-12T08:12:24.19628Z",
          "iopub.status.idle": "2024-06-12T08:12:24.507211Z",
          "shell.execute_reply.started": "2024-06-12T08:12:24.196241Z",
          "shell.execute_reply": "2024-06-12T08:12:24.506018Z"
        },
        "trusted": true,
        "id": "IarvGyvoiC2T"
      },
      "execution_count": null,
      "outputs": []
    },
    {
      "cell_type": "code",
      "source": [
        "Salary_churn_yes = bank[bank.Exited ==0].EstimatedSalary\n",
        "Salary_churn_no = bank[bank.Exited == 1].EstimatedSalary\n",
        "plt.xlabel('Tenure')\n",
        "plt.ylabel('no of customer')\n",
        "plt.title(\"Customer Exits or Not \")\n",
        "plt.hist([tenure_churn_yes, tenure_churn_no], color = ['green', 'red'], label = ['churn_yes', 'churn_no'])\n",
        "plt.legend()"
      ],
      "metadata": {
        "execution": {
          "iopub.status.busy": "2024-06-12T08:12:28.324013Z",
          "iopub.execute_input": "2024-06-12T08:12:28.324742Z",
          "iopub.status.idle": "2024-06-12T08:12:29.189946Z",
          "shell.execute_reply.started": "2024-06-12T08:12:28.324707Z",
          "shell.execute_reply": "2024-06-12T08:12:29.188845Z"
        },
        "trusted": true,
        "id": "E9uNIOLJiC2T"
      },
      "execution_count": null,
      "outputs": []
    },
    {
      "cell_type": "markdown",
      "source": [
        "we are replacing the String data into int data for better model prediction"
      ],
      "metadata": {
        "id": "StU6xK4ciC2U"
      }
    },
    {
      "cell_type": "code",
      "source": [
        "bank['Gender'].replace(to_replace={'Male':1,'Female':0},inplace=True)\n",
        "bank['Geography'].replace(to_replace={'France':2,'Spain':1,'Germany':0},inplace=True)\n",
        "bank.head()"
      ],
      "metadata": {
        "execution": {
          "iopub.status.busy": "2024-06-12T08:12:33.096917Z",
          "iopub.execute_input": "2024-06-12T08:12:33.097417Z",
          "iopub.status.idle": "2024-06-12T08:12:33.125129Z",
          "shell.execute_reply.started": "2024-06-12T08:12:33.097379Z",
          "shell.execute_reply": "2024-06-12T08:12:33.124132Z"
        },
        "trusted": true,
        "id": "tfX-GdM3iC2U"
      },
      "execution_count": null,
      "outputs": []
    },
    {
      "cell_type": "markdown",
      "source": [
        "printing all datatype columns"
      ],
      "metadata": {
        "id": "XxPcPD81iC2U"
      }
    },
    {
      "cell_type": "code",
      "source": [
        "bank.dtypes"
      ],
      "metadata": {
        "execution": {
          "iopub.status.busy": "2024-06-12T08:11:34.815149Z",
          "iopub.execute_input": "2024-06-12T08:11:34.815458Z",
          "iopub.status.idle": "2024-06-12T08:11:34.823568Z",
          "shell.execute_reply.started": "2024-06-12T08:11:34.815432Z",
          "shell.execute_reply": "2024-06-12T08:11:34.822501Z"
        },
        "trusted": true,
        "id": "5QGILSkaiC2U"
      },
      "execution_count": null,
      "outputs": []
    },
    {
      "cell_type": "markdown",
      "source": [
        "scaleing our data"
      ],
      "metadata": {
        "id": "VmCt0dCaiC2U"
      }
    },
    {
      "cell_type": "code",
      "source": [
        "#  to scaleing our model using min_max scaler\n",
        "from sklearn.preprocessing import MinMaxScaler\n",
        "scaler = MinMaxScaler()\n",
        "\n",
        "scale_col = ['CreditScore', 'Age', 'Tenure', 'Balance', 'NumOfProducts', 'EstimatedSalary']\n",
        "bank[scale_col] = scaler.fit_transform(bank[scale_col])"
      ],
      "metadata": {
        "execution": {
          "iopub.status.busy": "2024-06-12T08:11:34.824929Z",
          "iopub.execute_input": "2024-06-12T08:11:34.825291Z",
          "iopub.status.idle": "2024-06-12T08:11:34.839641Z",
          "shell.execute_reply.started": "2024-06-12T08:11:34.825263Z",
          "shell.execute_reply": "2024-06-12T08:11:34.838605Z"
        },
        "trusted": true,
        "id": "e2fXrzhhiC2U"
      },
      "execution_count": null,
      "outputs": []
    },
    {
      "cell_type": "code",
      "source": [
        "# Now, We need to normalize the columns with different ranges into a same range. This improves the accuracy of the our model.\n",
        "\n",
        "for i in bank.columns:\n",
        "  print(f'{i}:{bank[i].unique()}')"
      ],
      "metadata": {
        "execution": {
          "iopub.status.busy": "2024-06-12T08:11:34.843275Z",
          "iopub.execute_input": "2024-06-12T08:11:34.843741Z",
          "iopub.status.idle": "2024-06-12T08:11:34.858882Z",
          "shell.execute_reply.started": "2024-06-12T08:11:34.843706Z",
          "shell.execute_reply": "2024-06-12T08:11:34.857869Z"
        },
        "trusted": true,
        "id": "F1mWQzjEiC2U"
      },
      "execution_count": null,
      "outputs": []
    },
    {
      "cell_type": "markdown",
      "source": [
        "<!--  -->"
      ],
      "metadata": {
        "id": "9s20u8yuiC2V"
      }
    },
    {
      "cell_type": "markdown",
      "source": [
        "# Creating Model and Training\n",
        "In the following we want to split the data and train a NN model.\n"
      ],
      "metadata": {
        "id": "gWd0eqFciC2V"
      }
    },
    {
      "cell_type": "code",
      "source": [
        "#  dividing column in x and y\n",
        "#  and spilt data set into train set and training set using train_test_split\n",
        "x = bank.drop('Exited',axis='columns')\n",
        "y = bank['Exited']\n",
        "\n",
        "from sklearn.model_selection import train_test_split\n",
        "X_train, X_test, y_train, y_test = train_test_split(x,y,test_size=0.2,random_state=5)"
      ],
      "metadata": {
        "execution": {
          "iopub.status.busy": "2024-06-12T08:16:39.4599Z",
          "iopub.execute_input": "2024-06-12T08:16:39.460341Z",
          "iopub.status.idle": "2024-06-12T08:16:39.472353Z",
          "shell.execute_reply.started": "2024-06-12T08:16:39.460307Z",
          "shell.execute_reply": "2024-06-12T08:16:39.471167Z"
        },
        "trusted": true,
        "id": "-12Ko6afiC2V"
      },
      "execution_count": null,
      "outputs": []
    },
    {
      "cell_type": "markdown",
      "source": [
        "# Building ANN Model"
      ],
      "metadata": {
        "id": "Ux3ur5bNiC2V"
      }
    },
    {
      "cell_type": "code",
      "source": [
        "#\n",
        "\n",
        "from tensorflow import keras\n",
        "import tensorflow as tf\n",
        "\n",
        "model = keras.Sequential([\n",
        "    keras.Input(shape=(10, )),\n",
        "    keras.layers.Dense(10, activation='relu'),\n",
        "    keras.layers.Dense(1, activation='sigmoid')\n",
        "])\n",
        "model.compile(\n",
        "              optimizer='adam',\n",
        "              loss='binary_crossentropy',\n",
        "              metrics=['accuracy'])\n",
        "model.fit(X_train, y_train, epochs=50)"
      ],
      "metadata": {
        "execution": {
          "iopub.status.busy": "2024-06-12T08:16:42.481189Z",
          "iopub.execute_input": "2024-06-12T08:16:42.481583Z",
          "iopub.status.idle": "2024-06-12T08:16:58.720479Z",
          "shell.execute_reply.started": "2024-06-12T08:16:42.481554Z",
          "shell.execute_reply": "2024-06-12T08:16:58.719399Z"
        },
        "trusted": true,
        "id": "XwLAC7FiiC2V"
      },
      "execution_count": null,
      "outputs": []
    },
    {
      "cell_type": "code",
      "source": [
        "model.predict(X_test)"
      ],
      "metadata": {
        "execution": {
          "iopub.status.busy": "2024-06-12T08:17:02.183271Z",
          "iopub.execute_input": "2024-06-12T08:17:02.184008Z",
          "iopub.status.idle": "2024-06-12T08:17:02.409959Z",
          "shell.execute_reply.started": "2024-06-12T08:17:02.183973Z",
          "shell.execute_reply": "2024-06-12T08:17:02.408931Z"
        },
        "trusted": true,
        "id": "4X14bZ6diC2V"
      },
      "execution_count": null,
      "outputs": []
    },
    {
      "cell_type": "markdown",
      "source": [
        "# Evaluation of the model"
      ],
      "metadata": {
        "id": "jujfmwGCiC2V"
      }
    },
    {
      "cell_type": "code",
      "source": [
        "model.evaluate(X_test,y_test)"
      ],
      "metadata": {
        "execution": {
          "iopub.status.busy": "2024-06-12T08:17:16.43837Z",
          "iopub.execute_input": "2024-06-12T08:17:16.438762Z",
          "iopub.status.idle": "2024-06-12T08:17:16.721699Z",
          "shell.execute_reply.started": "2024-06-12T08:17:16.438725Z",
          "shell.execute_reply": "2024-06-12T08:17:16.720356Z"
        },
        "trusted": true,
        "id": "jzVaisTiiC2V"
      },
      "execution_count": null,
      "outputs": []
    },
    {
      "cell_type": "code",
      "source": [
        "yp = model.predict(X_test)\n",
        "X_test[:10]"
      ],
      "metadata": {
        "execution": {
          "iopub.status.busy": "2024-06-12T08:17:18.465619Z",
          "iopub.execute_input": "2024-06-12T08:17:18.465996Z",
          "iopub.status.idle": "2024-06-12T08:17:18.636525Z",
          "shell.execute_reply.started": "2024-06-12T08:17:18.465964Z",
          "shell.execute_reply": "2024-06-12T08:17:18.635298Z"
        },
        "trusted": true,
        "id": "Ku_Tz0aNiC2W"
      },
      "execution_count": null,
      "outputs": []
    },
    {
      "cell_type": "code",
      "source": [
        "y_pred = []\n",
        "for i in yp:\n",
        "  if i > 0.5:\n",
        "    y_pred.append(1)\n",
        "  else:\n",
        "    y_pred.append(0)\n",
        "list(y_pred[:10])"
      ],
      "metadata": {
        "execution": {
          "iopub.status.busy": "2024-06-12T08:17:20.601395Z",
          "iopub.execute_input": "2024-06-12T08:17:20.601804Z",
          "iopub.status.idle": "2024-06-12T08:17:20.613751Z",
          "shell.execute_reply.started": "2024-06-12T08:17:20.601769Z",
          "shell.execute_reply": "2024-06-12T08:17:20.612723Z"
        },
        "trusted": true,
        "id": "YNe2sLW8iC2W"
      },
      "execution_count": null,
      "outputs": []
    },
    {
      "cell_type": "code",
      "source": [
        "y_test[:10]"
      ],
      "metadata": {
        "execution": {
          "iopub.status.busy": "2024-06-12T08:17:22.131265Z",
          "iopub.execute_input": "2024-06-12T08:17:22.131664Z",
          "iopub.status.idle": "2024-06-12T08:17:22.139469Z",
          "shell.execute_reply.started": "2024-06-12T08:17:22.131631Z",
          "shell.execute_reply": "2024-06-12T08:17:22.138423Z"
        },
        "trusted": true,
        "id": "VpzVn1XCiC2W"
      },
      "execution_count": null,
      "outputs": []
    },
    {
      "cell_type": "code",
      "source": [
        "from sklearn.metrics import confusion_matrix , classification_report\n",
        "print(classification_report(y_test,y_pred))"
      ],
      "metadata": {
        "execution": {
          "iopub.status.busy": "2024-06-12T08:17:24.213745Z",
          "iopub.execute_input": "2024-06-12T08:17:24.21415Z",
          "iopub.status.idle": "2024-06-12T08:17:24.236067Z",
          "shell.execute_reply.started": "2024-06-12T08:17:24.214094Z",
          "shell.execute_reply": "2024-06-12T08:17:24.234847Z"
        },
        "trusted": true,
        "id": "si0KNEj4iC2W"
      },
      "execution_count": null,
      "outputs": []
    },
    {
      "cell_type": "markdown",
      "source": [
        "Let's see the confusion matrix"
      ],
      "metadata": {
        "id": "LSwTfTG8iC2W"
      }
    },
    {
      "cell_type": "code",
      "source": [
        "import seaborn as sn\n",
        "cm = tf.math.confusion_matrix(labels=y_test, predictions=y_pred)\n",
        "plt.figure(figsize=(10, 7))\n",
        "plt.title('Cunfusion matrix')\n",
        "sn.heatmap(cm,annot=True,fmt='d')\n",
        "plt.xlabel('predication')\n",
        "plt.ylabel('Truth')\n",
        "plt.show()"
      ],
      "metadata": {
        "execution": {
          "iopub.status.busy": "2024-06-12T08:17:26.134135Z",
          "iopub.execute_input": "2024-06-12T08:17:26.134525Z",
          "iopub.status.idle": "2024-06-12T08:17:26.377672Z",
          "shell.execute_reply.started": "2024-06-12T08:17:26.134495Z",
          "shell.execute_reply": "2024-06-12T08:17:26.376642Z"
        },
        "trusted": true,
        "id": "kgrjALZ7iC2W"
      },
      "execution_count": null,
      "outputs": []
    }
  ]
}